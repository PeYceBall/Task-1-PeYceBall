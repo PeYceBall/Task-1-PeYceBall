{
  "nbformat": 4,
  "nbformat_minor": 0,
  "metadata": {
    "kernelspec": {
      "name": "python3",
      "display_name": "Python 3"
    },
    "language_info": {
      "codemirror_mode": {
        "name": "ipython",
        "version": 3
      },
      "file_extension": ".py",
      "mimetype": "text/x-python",
      "name": "python",
      "nbconvert_exporter": "python",
      "pygments_lexer": "ipython3",
      "version": "3.6.10"
    },
    "colab": {
      "name": "task2_preprocessing.ipynb",
      "provenance": [],
      "collapsed_sections": []
    },
    "accelerator": "GPU"
  },
  "cells": [
    {
      "cell_type": "markdown",
      "metadata": {
        "id": "B6LfSUEt2rgI",
        "colab_type": "text"
      },
      "source": [
        "# Assignment 1.2: Word2vec preprocessing (20 points)"
      ]
    },
    {
      "cell_type": "markdown",
      "metadata": {
        "id": "DI0KJMTU2rgL",
        "colab_type": "text"
      },
      "source": [
        "Preprocessing is not the most exciting part of NLP, but it is still one of the most important ones. Your task is to preprocess raw text (you can use your own, or [this one](http://mattmahoney.net/dc/text8.zip). For this task text preprocessing mostly consists of:\n",
        "\n",
        "1. cleaning (mostly, if your dataset is from social media or parsed from the internet)\n",
        "1. tokenization\n",
        "1. building the vocabulary and choosing its size. Use only high-frequency words, change all other words to UNK or handle it in your own manner. You can use `collections.Counter` for that.\n",
        "1. assigning each token a number (numericalization). In other words, make word2index и index2word objects.\n",
        "1. data structuring and batching - make X and y matrices generator for word2vec (explained in more details below)\n",
        "\n",
        "**ATTN!:** If you use your own data, please, attach a download link. \n",
        "\n",
        "Your goal is to make **Batcher** class which returns two numpy tensors with word indices. It should be possible to use one for word2vec training. You can implement batcher for Skip-Gram or CBOW architecture, the picture below can be helpful to remember the difference.\n",
        "\n",
        "![text](https://raw.githubusercontent.com/deepmipt/deep-nlp-seminars/651804899d05b96fc72b9474404fab330365ca09/seminar_02/pics/architecture.png)\n",
        "\n",
        "There are several ways to do it right. Shapes could be `x_batch.shape = (batch_size, 2*window_size)`, `y_batch.shape = (batch_size,)` for CBOW or `(batch_size,)`, `(batch_size, 2*window_size)` for Skip-Gram. You should **not** do negative sampling here.\n",
        "\n",
        "They should be adequately parametrized: CBOW(window_size, ...), SkipGram(window_size, ...). You should implement only one batcher in this task; and it's up to you which one to chose.\n",
        "\n",
        "Useful links:\n",
        "1. [Word2Vec Tutorial - The Skip-Gram Model](http://mccormickml.com/2016/04/19/word2vec-tutorial-the-skip-gram-model/)\n",
        "1. [Efficient Estimation of Word Representations in Vector Space](https://arxiv.org/pdf/1301.3781.pdf)\n",
        "1. [Distributed Representations of Words and Phrases and their Compositionality](http://papers.nips.cc/paper/5021-distributed-representations-of-words-and-phrases-and-their-compositionality.pdf)\n",
        "\n",
        "You can write the code in this notebook, or in a separate file. It can be reused for the next task. The result of your work should represent that your batch has a proper structure (right shapes) and content (words should be from one context, not some random indices). To show that, translate indices back to words and print them to show something like this:\n",
        "\n",
        "```\n",
        "text = ['first', 'used', 'against', 'early', 'working', 'class', 'radicals', 'including']\n",
        "\n",
        "window_size = 2\n",
        "\n",
        "# CBOW:\n",
        "indices_to_words(x_batch) = \\\n",
        "        [['first', 'used', 'early', 'working'],\n",
        "        ['used', 'against', 'working', 'class'],\n",
        "        ['against', 'early', 'class', 'radicals'],\n",
        "        ['early', 'working', 'radicals', 'including']]\n",
        "\n",
        "indices_to_words(labels_batch) = ['against', 'early', 'working', 'class']\n",
        "```"
      ]
    },
    {
      "cell_type": "code",
      "metadata": {
        "id": "TznxePrK7sra",
        "colab_type": "code",
        "colab": {
          "base_uri": "https://localhost:8080/",
          "height": 68
        },
        "outputId": "0eb14c26-14fa-4c9a-c324-187462ec171d"
      },
      "source": [
        "import nltk\n",
        "import numpy as np\n",
        "from collections import Counter\n",
        "nltk.download('punkt')"
      ],
      "execution_count": 31,
      "outputs": [
        {
          "output_type": "stream",
          "text": [
            "[nltk_data] Downloading package punkt to /root/nltk_data...\n",
            "[nltk_data]   Package punkt is already up-to-date!\n"
          ],
          "name": "stdout"
        },
        {
          "output_type": "execute_result",
          "data": {
            "text/plain": [
              "True"
            ]
          },
          "metadata": {
            "tags": []
          },
          "execution_count": 31
        }
      ]
    },
    {
      "cell_type": "code",
      "metadata": {
        "id": "n2pbW_Wo2rgN",
        "colab_type": "code",
        "colab": {}
      },
      "source": [
        "# for SkipGram\n",
        "class Batcher:\n",
        "  def preprocess(self):\n",
        "      self.tokens = nltk.word_tokenize(self.raw_text)\n",
        "      # self.tokens = self.raw_text\n",
        "      self.corpus_size = len(self.tokens)\n",
        "\n",
        "      counter = Counter(self.tokens)\n",
        "      counter = {k: v for k, v in sorted(counter.items(),\n",
        "                                              key=lambda item: item[1])}\n",
        "\n",
        "      most_frequent = list(counter)[:min(len(counter), self.vocab_size - 1)]\n",
        "      \n",
        "      self.word2Ind = {word : ind for ind, word in enumerate(most_frequent)}\n",
        "      self.word2Ind[self.unknown] = len(self.word2Ind)\n",
        "      self.ind2Word = {v : k for k, v in self.word2Ind.items()}\n",
        "\n",
        "      self.tokens = np.array([self.word2Ind[token] if token in most_frequent \n",
        "                     else self.word2Ind[self.unknown]\n",
        "                     for token in self.tokens])\n",
        "\n",
        "      # обрезаем текст чтобы все батчи имели один шейп\n",
        "      self.shuffle = np.arange(self.window_size, len(self.tokens)\n",
        "       - self.window_size)\n",
        "      np.random.shuffle(self.shuffle)\n",
        "      \n",
        "\n",
        "  def __init__(self, window_size=2, batch_size=100,\n",
        "               data_path = 'text8', vocab_size = 10000):\n",
        "    self.window_size = window_size\n",
        "    self.batch_size = batch_size\n",
        "    self.vocab_size = vocab_size\n",
        "    self.unknown = '<UNK>'\n",
        "\n",
        "    self.raw_text = open(data_path).read()\n",
        "    # self.raw_text = ['first', 'used', 'against', 'early', 'working', 'class', 'radicals', 'including']\n",
        "    self.preprocess()\n",
        "    \n",
        "    self.ind = 0 \n",
        "\n",
        "    \n",
        "  def __next__(self):\n",
        "    # если последний батч вылезает за границы корпуса, просто пропускаем его\n",
        "    if self.ind + self.batch_size >= len(self.shuffle):\n",
        "      raise StopIteration\n",
        "\n",
        "    centers_pos = self.shuffle[self.ind:self.ind + self.batch_size]\n",
        "    \n",
        "    windows = [list(self.tokens[c - self.window_size:c]) + list(\n",
        "                                 self.tokens[c + 1: c + self.window_size + 1])\n",
        "                                 for c in centers_pos]\n",
        "\n",
        "    self.ind += self.batch_size\n",
        "    return self.tokens[centers_pos], np.array(windows)\n",
        "    "
      ],
      "execution_count": 0,
      "outputs": []
    },
    {
      "cell_type": "code",
      "metadata": {
        "id": "rDylhlmj6WVO",
        "colab_type": "code",
        "colab": {}
      },
      "source": [
        "batcher = Batcher(batch_size = 5, window_size=2, vocab_size=100000)"
      ],
      "execution_count": 0,
      "outputs": []
    },
    {
      "cell_type": "code",
      "metadata": {
        "id": "9TGl3at2-pw4",
        "colab_type": "code",
        "colab": {
          "base_uri": "https://localhost:8080/",
          "height": 102
        },
        "outputId": "7f8737dc-bdf8-4a52-8abc-71395bd7b0f6"
      },
      "source": [
        "print(next(batcher))"
      ],
      "execution_count": 30,
      "outputs": [
        {
          "output_type": "stream",
          "text": [
            "(array([16972, 16181, 12236, 16785, 17046]), array([[17249, 15947, 17249, 15546],\n",
            "       [13737, 13204, 16388, 17152],\n",
            "       [16483, 17017, 17083, 17246],\n",
            "       [17225, 17249, 17248, 14955],\n",
            "       [17242, 17234, 11277, 17244]]))\n"
          ],
          "name": "stdout"
        }
      ]
    },
    {
      "cell_type": "code",
      "metadata": {
        "id": "ruqrgf2OoZIU",
        "colab_type": "code",
        "colab": {}
      },
      "source": [
        ""
      ],
      "execution_count": 0,
      "outputs": []
    }
  ]
}