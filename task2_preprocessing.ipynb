{
  "nbformat": 4,
  "nbformat_minor": 0,
  "metadata": {
    "accelerator": "GPU",
    "colab": {
      "name": "task2_preprocessing.ipynb",
      "provenance": [],
      "collapsed_sections": [],
      "toc_visible": true
    },
    "kernelspec": {
      "display_name": "Python 3",
      "language": "python",
      "name": "python3"
    },
    "language_info": {
      "codemirror_mode": {
        "name": "ipython",
        "version": 3
      },
      "file_extension": ".py",
      "mimetype": "text/x-python",
      "name": "python",
      "nbconvert_exporter": "python",
      "pygments_lexer": "ipython3",
      "version": "3.6.8"
    }
  },
  "cells": [
    {
      "cell_type": "markdown",
      "metadata": {
        "colab_type": "text",
        "id": "B6LfSUEt2rgI"
      },
      "source": [
        "# Assignment 1.2: Word2vec preprocessing (20 points)"
      ]
    },
    {
      "cell_type": "markdown",
      "metadata": {
        "colab_type": "text",
        "id": "DI0KJMTU2rgL"
      },
      "source": [
        "Preprocessing is not the most exciting part of NLP, but it is still one of the most important ones. Your task is to preprocess raw text (you can use your own, or [this one](http://mattmahoney.net/dc/text8.zip). For this task text preprocessing mostly consists of:\n",
        "\n",
        "1. cleaning (mostly, if your dataset is from social media or parsed from the internet)\n",
        "1. tokenization\n",
        "1. building the vocabulary and choosing its size. Use only high-frequency words, change all other words to UNK or handle it in your own manner. You can use `collections.Counter` for that.\n",
        "1. assigning each token a number (numericalization). In other words, make word2index и index2word objects.\n",
        "1. data structuring and batching - make X and y matrices generator for word2vec (explained in more details below)\n",
        "\n",
        "**ATTN!:** If you use your own data, please, attach a download link. \n",
        "\n",
        "Your goal is to make **Batcher** class which returns two numpy tensors with word indices. It should be possible to use one for word2vec training. You can implement batcher for Skip-Gram or CBOW architecture, the picture below can be helpful to remember the difference.\n",
        "\n",
        "![text](https://raw.githubusercontent.com/deepmipt/deep-nlp-seminars/651804899d05b96fc72b9474404fab330365ca09/seminar_02/pics/architecture.png)\n",
        "\n",
        "There are several ways to do it right. Shapes could be `x_batch.shape = (batch_size, 2*window_size)`, `y_batch.shape = (batch_size,)` for CBOW or `(batch_size,)`, `(batch_size, 2*window_size)` for Skip-Gram. You should **not** do negative sampling here.\n",
        "\n",
        "They should be adequately parametrized: CBOW(window_size, ...), SkipGram(window_size, ...). You should implement only one batcher in this task; and it's up to you which one to chose.\n",
        "\n",
        "Useful links:\n",
        "1. [Word2Vec Tutorial - The Skip-Gram Model](http://mccormickml.com/2016/04/19/word2vec-tutorial-the-skip-gram-model/)\n",
        "1. [Efficient Estimation of Word Representations in Vector Space](https://arxiv.org/pdf/1301.3781.pdf)\n",
        "1. [Distributed Representations of Words and Phrases and their Compositionality](http://papers.nips.cc/paper/5021-distributed-representations-of-words-and-phrases-and-their-compositionality.pdf)\n",
        "\n",
        "You can write the code in this notebook, or in a separate file. It can be reused for the next task. The result of your work should represent that your batch has a proper structure (right shapes) and content (words should be from one context, not some random indices). To show that, translate indices back to words and print them to show something like this:\n",
        "\n",
        "```\n",
        "text = ['first', 'used', 'against', 'early', 'working', 'class', 'radicals', 'including']\n",
        "\n",
        "window_size = 2\n",
        "\n",
        "# CBOW:\n",
        "indices_to_words(x_batch) = \\\n",
        "        [['first', 'used', 'early', 'working'],\n",
        "        ['used', 'against', 'working', 'class'],\n",
        "        ['against', 'early', 'class', 'radicals'],\n",
        "        ['early', 'working', 'radicals', 'including']]\n",
        "\n",
        "indices_to_words(labels_batch) = ['against', 'early', 'working', 'class']\n",
        "```"
      ]
    },
    {
      "cell_type": "code",
      "metadata": {
        "colab_type": "code",
        "id": "TznxePrK7sra",
        "outputId": "aaf080fc-b2da-4776-cc81-739d58ef7c2d",
        "colab": {
          "base_uri": "https://localhost:8080/",
          "height": 67
        }
      },
      "source": [
        "import nltk\n",
        "import numpy as np\n",
        "import torch\n",
        "from collections import Counter\n",
        "nltk.download('punkt')"
      ],
      "execution_count": 2,
      "outputs": [
        {
          "output_type": "stream",
          "text": [
            "[nltk_data] Downloading package punkt to /root/nltk_data...\n",
            "[nltk_data]   Unzipping tokenizers/punkt.zip.\n"
          ],
          "name": "stdout"
        },
        {
          "output_type": "execute_result",
          "data": {
            "text/plain": [
              "True"
            ]
          },
          "metadata": {
            "tags": []
          },
          "execution_count": 2
        }
      ]
    },
    {
      "cell_type": "code",
      "metadata": {
        "colab_type": "code",
        "id": "n2pbW_Wo2rgN",
        "colab": {}
      },
      "source": [
        "# for SkipGram\n",
        "class Batcher:\n",
        "  def preprocess(self):\n",
        "      self.tokens = nltk.word_tokenize(self.raw_text)\n",
        "      del self.raw_text\n",
        "      if self.data_percent is not None:\n",
        "        self.tokens = self.tokens[:int(self.data_percent * len(self.tokens))]\n",
        "        \n",
        "      self.corpus_size = len(self.tokens)\n",
        "\n",
        "      counter = Counter(self.tokens)\n",
        "      counter = {k: v for k, v in sorted(counter.items(),\n",
        "                                        key=lambda item: item[1],\n",
        "                                        reverse=True)}\n",
        "\n",
        "      most_frequent = list(counter)[:min(len(counter), self.vocab_size - 1)]\n",
        "      \n",
        "      self.word2Ind = {word : ind for ind, word in enumerate(most_frequent)}\n",
        "      self.word2Ind[self.unknown] = len(self.word2Ind)\n",
        "      self.ind2Word = {v : k for k, v in self.word2Ind.items()}\n",
        "\n",
        "      most_frequent = set(most_frequent)\n",
        "      self.tokens = np.array([self.word2Ind[token] if token in most_frequent \n",
        "                     else self.word2Ind[self.unknown]\n",
        "                     for token in self.tokens])\n",
        "\n",
        "      # обрезаем текст чтобы все батчи имели один шейп\n",
        "      self.shuffle = np.arange(self.window_size, len(self.tokens)\n",
        "       - self.window_size)\n",
        "      np.random.shuffle(self.shuffle)\n",
        "      \n",
        "\n",
        "  def __init__(self, window_size=2, batch_size=100,\n",
        "               data_path = 'text8', raw_text = None,\n",
        "               vocab_size = 10000, data_percent = None):\n",
        "    \n",
        "    self.window_size = window_size\n",
        "    self.batch_size = batch_size\n",
        "    self.vocab_size = vocab_size\n",
        "    self.unknown = '<UNK>'\n",
        "    self.data_percent = data_percent\n",
        "\n",
        "\n",
        "    if raw_text is None:\n",
        "      self.raw_text = open(data_path).read()\n",
        "    else:\n",
        "      self.raw_text = raw_text\n",
        "    \n",
        "    self.preprocess()\n",
        "    \n",
        "    self.ind = 0 \n",
        "\n",
        "  def __iter__(self):\n",
        "    return self\n",
        "    \n",
        "  def __next__(self):\n",
        "    # если последний батч вылезает за границы корпуса, просто пропускаем его\n",
        "    if self.ind + self.batch_size >= len(self.shuffle):\n",
        "      raise StopIteration\n",
        "\n",
        "    centers_pos = self.shuffle[self.ind:self.ind + self.batch_size]\n",
        "    \n",
        "    windows = [list(self.tokens[c - self.window_size:c]) + \n",
        "               list(self.tokens[c + 1: c + self.window_size + 1])\n",
        "                                 for c in centers_pos]\n",
        "\n",
        "    self.ind += self.batch_size\n",
        "    return self.tokens[centers_pos], np.array(windows)\n",
        "\n",
        "    # вернуть итератор к началу текста\n",
        "  def reset(self):\n",
        "    np.random.shuffle(self.shuffle)\n",
        "    self.ind = 0\n",
        "    "
      ],
      "execution_count": 0,
      "outputs": []
    },
    {
      "cell_type": "code",
      "metadata": {
        "colab_type": "code",
        "id": "rDylhlmj6WVO",
        "colab": {}
      },
      "source": [
        "# batcher = Batcher(batch_size = 1, window_size=1, vocab_size=100000, raw_text = 'abc abc bcd efg hhh')"
      ],
      "execution_count": 0,
      "outputs": []
    },
    {
      "cell_type": "code",
      "metadata": {
        "colab_type": "code",
        "id": "9TGl3at2-pw4",
        "colab": {}
      },
      "source": [
        "# for batch in batcher:\n",
        "#   print(batch)\n",
        "# batcher.reset()\n",
        "# for batch in batcher:\n",
        "#   print(batch)"
      ],
      "execution_count": 0,
      "outputs": []
    },
    {
      "cell_type": "code",
      "metadata": {
        "colab_type": "code",
        "id": "TVIkWr0ONEap",
        "colab": {
          "base_uri": "https://localhost:8080/",
          "height": 118
        },
        "outputId": "79054f6e-478d-4729-8a5f-95ce04b75f9a"
      },
      "source": [
        "text = ['first', 'used', 'against', 'early', 'working', 'class', 'radicals', 'including']\n",
        "batcher = Batcher(batch_size = 3, window_size=2, vocab_size=100000, raw_text = ' '.join(text))\n",
        "for batch in batcher:\n",
        "    for i, window in enumerate(batch[1]):\n",
        "        print(batcher.ind2Word[batch[0][i]])\n",
        "        for ind in window:\n",
        "            print(batcher.ind2Word[ind], end=' ')\n",
        "        print()"
      ],
      "execution_count": 18,
      "outputs": [
        {
          "output_type": "stream",
          "text": [
            "early\n",
            "used against working class \n",
            "class\n",
            "early working radicals including \n",
            "against\n",
            "first used early working \n"
          ],
          "name": "stdout"
        }
      ]
    },
    {
      "cell_type": "code",
      "metadata": {
        "id": "fSQjeZAoYPIS",
        "colab_type": "code",
        "colab": {}
      },
      "source": [
        ""
      ],
      "execution_count": 0,
      "outputs": []
    }
  ]
}