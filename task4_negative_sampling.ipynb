{
  "nbformat": 4,
  "nbformat_minor": 0,
  "metadata": {
    "kernelspec": {
      "name": "python3",
      "display_name": "Python 3"
    },
    "language_info": {
      "codemirror_mode": {
        "name": "ipython",
        "version": 3
      },
      "file_extension": ".py",
      "mimetype": "text/x-python",
      "name": "python",
      "nbconvert_exporter": "python",
      "pygments_lexer": "ipython3",
      "version": "3.6.10"
    },
    "colab": {
      "name": "task4_negative_sampling.ipynb",
      "provenance": [],
      "collapsed_sections": []
    },
    "accelerator": "GPU",
    "widgets": {
      "application/vnd.jupyter.widget-state+json": {
        "2b253c7898f94fffac29ae0be94010e1": {
          "model_module": "@jupyter-widgets/controls",
          "model_name": "HBoxModel",
          "state": {
            "_view_name": "HBoxView",
            "_dom_classes": [],
            "_model_name": "HBoxModel",
            "_view_module": "@jupyter-widgets/controls",
            "_model_module_version": "1.5.0",
            "_view_count": null,
            "_view_module_version": "1.5.0",
            "box_style": "",
            "layout": "IPY_MODEL_1874547cbbf4405081eb2fd12411ed72",
            "_model_module": "@jupyter-widgets/controls",
            "children": [
              "IPY_MODEL_8a4ad37eaf4c4062abeaf1d9b28b1664",
              "IPY_MODEL_114eb836a623416d95dd4a7a3535e0d3"
            ]
          }
        },
        "1874547cbbf4405081eb2fd12411ed72": {
          "model_module": "@jupyter-widgets/base",
          "model_name": "LayoutModel",
          "state": {
            "_view_name": "LayoutView",
            "grid_template_rows": null,
            "right": null,
            "justify_content": null,
            "_view_module": "@jupyter-widgets/base",
            "overflow": null,
            "_model_module_version": "1.2.0",
            "_view_count": null,
            "flex_flow": null,
            "width": null,
            "min_width": null,
            "border": null,
            "align_items": null,
            "bottom": null,
            "_model_module": "@jupyter-widgets/base",
            "top": null,
            "grid_column": null,
            "overflow_y": null,
            "overflow_x": null,
            "grid_auto_flow": null,
            "grid_area": null,
            "grid_template_columns": null,
            "flex": null,
            "_model_name": "LayoutModel",
            "justify_items": null,
            "grid_row": null,
            "max_height": null,
            "align_content": null,
            "visibility": null,
            "align_self": null,
            "height": null,
            "min_height": null,
            "padding": null,
            "grid_auto_rows": null,
            "grid_gap": null,
            "max_width": null,
            "order": null,
            "_view_module_version": "1.2.0",
            "grid_template_areas": null,
            "object_position": null,
            "object_fit": null,
            "grid_auto_columns": null,
            "margin": null,
            "display": null,
            "left": null
          }
        },
        "8a4ad37eaf4c4062abeaf1d9b28b1664": {
          "model_module": "@jupyter-widgets/controls",
          "model_name": "IntProgressModel",
          "state": {
            "_view_name": "ProgressView",
            "style": "IPY_MODEL_8c42a908a7a7492da4473ac1aa882696",
            "_dom_classes": [],
            "description": "",
            "_model_name": "IntProgressModel",
            "bar_style": "success",
            "max": 1,
            "_view_module": "@jupyter-widgets/controls",
            "_model_module_version": "1.5.0",
            "value": 1,
            "_view_count": null,
            "_view_module_version": "1.5.0",
            "orientation": "horizontal",
            "min": 0,
            "description_tooltip": null,
            "_model_module": "@jupyter-widgets/controls",
            "layout": "IPY_MODEL_475c524e5ada4966bd2a1276af84ec1c"
          }
        },
        "114eb836a623416d95dd4a7a3535e0d3": {
          "model_module": "@jupyter-widgets/controls",
          "model_name": "HTMLModel",
          "state": {
            "_view_name": "HTMLView",
            "style": "IPY_MODEL_e6fae36719f54c509cc3085f1ec2e009",
            "_dom_classes": [],
            "description": "",
            "_model_name": "HTMLModel",
            "placeholder": "​",
            "_view_module": "@jupyter-widgets/controls",
            "_model_module_version": "1.5.0",
            "value": "100% 1/1 [00:00&lt;00:00, 10.25it/s]",
            "_view_count": null,
            "_view_module_version": "1.5.0",
            "description_tooltip": null,
            "_model_module": "@jupyter-widgets/controls",
            "layout": "IPY_MODEL_7959d91d00524945b0aa339c987e2ef3"
          }
        },
        "8c42a908a7a7492da4473ac1aa882696": {
          "model_module": "@jupyter-widgets/controls",
          "model_name": "ProgressStyleModel",
          "state": {
            "_view_name": "StyleView",
            "_model_name": "ProgressStyleModel",
            "description_width": "",
            "_view_module": "@jupyter-widgets/base",
            "_model_module_version": "1.5.0",
            "_view_count": null,
            "_view_module_version": "1.2.0",
            "bar_color": null,
            "_model_module": "@jupyter-widgets/controls"
          }
        },
        "475c524e5ada4966bd2a1276af84ec1c": {
          "model_module": "@jupyter-widgets/base",
          "model_name": "LayoutModel",
          "state": {
            "_view_name": "LayoutView",
            "grid_template_rows": null,
            "right": null,
            "justify_content": null,
            "_view_module": "@jupyter-widgets/base",
            "overflow": null,
            "_model_module_version": "1.2.0",
            "_view_count": null,
            "flex_flow": null,
            "width": null,
            "min_width": null,
            "border": null,
            "align_items": null,
            "bottom": null,
            "_model_module": "@jupyter-widgets/base",
            "top": null,
            "grid_column": null,
            "overflow_y": null,
            "overflow_x": null,
            "grid_auto_flow": null,
            "grid_area": null,
            "grid_template_columns": null,
            "flex": null,
            "_model_name": "LayoutModel",
            "justify_items": null,
            "grid_row": null,
            "max_height": null,
            "align_content": null,
            "visibility": null,
            "align_self": null,
            "height": null,
            "min_height": null,
            "padding": null,
            "grid_auto_rows": null,
            "grid_gap": null,
            "max_width": null,
            "order": null,
            "_view_module_version": "1.2.0",
            "grid_template_areas": null,
            "object_position": null,
            "object_fit": null,
            "grid_auto_columns": null,
            "margin": null,
            "display": null,
            "left": null
          }
        },
        "e6fae36719f54c509cc3085f1ec2e009": {
          "model_module": "@jupyter-widgets/controls",
          "model_name": "DescriptionStyleModel",
          "state": {
            "_view_name": "StyleView",
            "_model_name": "DescriptionStyleModel",
            "description_width": "",
            "_view_module": "@jupyter-widgets/base",
            "_model_module_version": "1.5.0",
            "_view_count": null,
            "_view_module_version": "1.2.0",
            "_model_module": "@jupyter-widgets/controls"
          }
        },
        "7959d91d00524945b0aa339c987e2ef3": {
          "model_module": "@jupyter-widgets/base",
          "model_name": "LayoutModel",
          "state": {
            "_view_name": "LayoutView",
            "grid_template_rows": null,
            "right": null,
            "justify_content": null,
            "_view_module": "@jupyter-widgets/base",
            "overflow": null,
            "_model_module_version": "1.2.0",
            "_view_count": null,
            "flex_flow": null,
            "width": null,
            "min_width": null,
            "border": null,
            "align_items": null,
            "bottom": null,
            "_model_module": "@jupyter-widgets/base",
            "top": null,
            "grid_column": null,
            "overflow_y": null,
            "overflow_x": null,
            "grid_auto_flow": null,
            "grid_area": null,
            "grid_template_columns": null,
            "flex": null,
            "_model_name": "LayoutModel",
            "justify_items": null,
            "grid_row": null,
            "max_height": null,
            "align_content": null,
            "visibility": null,
            "align_self": null,
            "height": null,
            "min_height": null,
            "padding": null,
            "grid_auto_rows": null,
            "grid_gap": null,
            "max_width": null,
            "order": null,
            "_view_module_version": "1.2.0",
            "grid_template_areas": null,
            "object_position": null,
            "object_fit": null,
            "grid_auto_columns": null,
            "margin": null,
            "display": null,
            "left": null
          }
        },
        "49174817d3d446d7a40e81d6b4245dec": {
          "model_module": "@jupyter-widgets/controls",
          "model_name": "HBoxModel",
          "state": {
            "_view_name": "HBoxView",
            "_dom_classes": [],
            "_model_name": "HBoxModel",
            "_view_module": "@jupyter-widgets/controls",
            "_model_module_version": "1.5.0",
            "_view_count": null,
            "_view_module_version": "1.5.0",
            "box_style": "",
            "layout": "IPY_MODEL_4c2bf5e48bd54431987dfc381f291e92",
            "_model_module": "@jupyter-widgets/controls",
            "children": [
              "IPY_MODEL_caae367398984a49bf6708c2b218ce91",
              "IPY_MODEL_e2ad92cff746468dad6e35eca22dd0d1"
            ]
          }
        },
        "4c2bf5e48bd54431987dfc381f291e92": {
          "model_module": "@jupyter-widgets/base",
          "model_name": "LayoutModel",
          "state": {
            "_view_name": "LayoutView",
            "grid_template_rows": null,
            "right": null,
            "justify_content": null,
            "_view_module": "@jupyter-widgets/base",
            "overflow": null,
            "_model_module_version": "1.2.0",
            "_view_count": null,
            "flex_flow": null,
            "width": null,
            "min_width": null,
            "border": null,
            "align_items": null,
            "bottom": null,
            "_model_module": "@jupyter-widgets/base",
            "top": null,
            "grid_column": null,
            "overflow_y": null,
            "overflow_x": null,
            "grid_auto_flow": null,
            "grid_area": null,
            "grid_template_columns": null,
            "flex": null,
            "_model_name": "LayoutModel",
            "justify_items": null,
            "grid_row": null,
            "max_height": null,
            "align_content": null,
            "visibility": null,
            "align_self": null,
            "height": null,
            "min_height": null,
            "padding": null,
            "grid_auto_rows": null,
            "grid_gap": null,
            "max_width": null,
            "order": null,
            "_view_module_version": "1.2.0",
            "grid_template_areas": null,
            "object_position": null,
            "object_fit": null,
            "grid_auto_columns": null,
            "margin": null,
            "display": null,
            "left": null
          }
        },
        "caae367398984a49bf6708c2b218ce91": {
          "model_module": "@jupyter-widgets/controls",
          "model_name": "IntProgressModel",
          "state": {
            "_view_name": "ProgressView",
            "style": "IPY_MODEL_02596d6c6915493285c8c6fc2aae7123",
            "_dom_classes": [],
            "description": "",
            "_model_name": "IntProgressModel",
            "bar_style": "success",
            "max": 1,
            "_view_module": "@jupyter-widgets/controls",
            "_model_module_version": "1.5.0",
            "value": 1,
            "_view_count": null,
            "_view_module_version": "1.5.0",
            "orientation": "horizontal",
            "min": 0,
            "description_tooltip": null,
            "_model_module": "@jupyter-widgets/controls",
            "layout": "IPY_MODEL_408c4d76c58a40ffb9c8099b18498bd0"
          }
        },
        "e2ad92cff746468dad6e35eca22dd0d1": {
          "model_module": "@jupyter-widgets/controls",
          "model_name": "HTMLModel",
          "state": {
            "_view_name": "HTMLView",
            "style": "IPY_MODEL_29448918904c45e4be386953c3cec70c",
            "_dom_classes": [],
            "description": "",
            "_model_name": "HTMLModel",
            "placeholder": "​",
            "_view_module": "@jupyter-widgets/controls",
            "_model_module_version": "1.5.0",
            "value": "5it [00:00, 68.67it/s]",
            "_view_count": null,
            "_view_module_version": "1.5.0",
            "description_tooltip": null,
            "_model_module": "@jupyter-widgets/controls",
            "layout": "IPY_MODEL_ce98aeb0a3de4c14989a54033335878e"
          }
        },
        "02596d6c6915493285c8c6fc2aae7123": {
          "model_module": "@jupyter-widgets/controls",
          "model_name": "ProgressStyleModel",
          "state": {
            "_view_name": "StyleView",
            "_model_name": "ProgressStyleModel",
            "description_width": "",
            "_view_module": "@jupyter-widgets/base",
            "_model_module_version": "1.5.0",
            "_view_count": null,
            "_view_module_version": "1.2.0",
            "bar_color": null,
            "_model_module": "@jupyter-widgets/controls"
          }
        },
        "408c4d76c58a40ffb9c8099b18498bd0": {
          "model_module": "@jupyter-widgets/base",
          "model_name": "LayoutModel",
          "state": {
            "_view_name": "LayoutView",
            "grid_template_rows": null,
            "right": null,
            "justify_content": null,
            "_view_module": "@jupyter-widgets/base",
            "overflow": null,
            "_model_module_version": "1.2.0",
            "_view_count": null,
            "flex_flow": null,
            "width": null,
            "min_width": null,
            "border": null,
            "align_items": null,
            "bottom": null,
            "_model_module": "@jupyter-widgets/base",
            "top": null,
            "grid_column": null,
            "overflow_y": null,
            "overflow_x": null,
            "grid_auto_flow": null,
            "grid_area": null,
            "grid_template_columns": null,
            "flex": null,
            "_model_name": "LayoutModel",
            "justify_items": null,
            "grid_row": null,
            "max_height": null,
            "align_content": null,
            "visibility": null,
            "align_self": null,
            "height": null,
            "min_height": null,
            "padding": null,
            "grid_auto_rows": null,
            "grid_gap": null,
            "max_width": null,
            "order": null,
            "_view_module_version": "1.2.0",
            "grid_template_areas": null,
            "object_position": null,
            "object_fit": null,
            "grid_auto_columns": null,
            "margin": null,
            "display": null,
            "left": null
          }
        },
        "29448918904c45e4be386953c3cec70c": {
          "model_module": "@jupyter-widgets/controls",
          "model_name": "DescriptionStyleModel",
          "state": {
            "_view_name": "StyleView",
            "_model_name": "DescriptionStyleModel",
            "description_width": "",
            "_view_module": "@jupyter-widgets/base",
            "_model_module_version": "1.5.0",
            "_view_count": null,
            "_view_module_version": "1.2.0",
            "_model_module": "@jupyter-widgets/controls"
          }
        },
        "ce98aeb0a3de4c14989a54033335878e": {
          "model_module": "@jupyter-widgets/base",
          "model_name": "LayoutModel",
          "state": {
            "_view_name": "LayoutView",
            "grid_template_rows": null,
            "right": null,
            "justify_content": null,
            "_view_module": "@jupyter-widgets/base",
            "overflow": null,
            "_model_module_version": "1.2.0",
            "_view_count": null,
            "flex_flow": null,
            "width": null,
            "min_width": null,
            "border": null,
            "align_items": null,
            "bottom": null,
            "_model_module": "@jupyter-widgets/base",
            "top": null,
            "grid_column": null,
            "overflow_y": null,
            "overflow_x": null,
            "grid_auto_flow": null,
            "grid_area": null,
            "grid_template_columns": null,
            "flex": null,
            "_model_name": "LayoutModel",
            "justify_items": null,
            "grid_row": null,
            "max_height": null,
            "align_content": null,
            "visibility": null,
            "align_self": null,
            "height": null,
            "min_height": null,
            "padding": null,
            "grid_auto_rows": null,
            "grid_gap": null,
            "max_width": null,
            "order": null,
            "_view_module_version": "1.2.0",
            "grid_template_areas": null,
            "object_position": null,
            "object_fit": null,
            "grid_auto_columns": null,
            "margin": null,
            "display": null,
            "left": null
          }
        },
        "91d6b07f60b848ddb87f5ab37dbe87f4": {
          "model_module": "@jupyter-widgets/controls",
          "model_name": "HBoxModel",
          "state": {
            "_view_name": "HBoxView",
            "_dom_classes": [],
            "_model_name": "HBoxModel",
            "_view_module": "@jupyter-widgets/controls",
            "_model_module_version": "1.5.0",
            "_view_count": null,
            "_view_module_version": "1.5.0",
            "box_style": "",
            "layout": "IPY_MODEL_ede653002b8e421db2c982d70355cc74",
            "_model_module": "@jupyter-widgets/controls",
            "children": [
              "IPY_MODEL_bf26955a00a94ba8ac1f178d30fd65c3",
              "IPY_MODEL_8cd38f0ec7be4ae3bf875e48f26af7fb"
            ]
          }
        },
        "ede653002b8e421db2c982d70355cc74": {
          "model_module": "@jupyter-widgets/base",
          "model_name": "LayoutModel",
          "state": {
            "_view_name": "LayoutView",
            "grid_template_rows": null,
            "right": null,
            "justify_content": null,
            "_view_module": "@jupyter-widgets/base",
            "overflow": null,
            "_model_module_version": "1.2.0",
            "_view_count": null,
            "flex_flow": null,
            "width": null,
            "min_width": null,
            "border": null,
            "align_items": null,
            "bottom": null,
            "_model_module": "@jupyter-widgets/base",
            "top": null,
            "grid_column": null,
            "overflow_y": null,
            "overflow_x": null,
            "grid_auto_flow": null,
            "grid_area": null,
            "grid_template_columns": null,
            "flex": null,
            "_model_name": "LayoutModel",
            "justify_items": null,
            "grid_row": null,
            "max_height": null,
            "align_content": null,
            "visibility": null,
            "align_self": null,
            "height": null,
            "min_height": null,
            "padding": null,
            "grid_auto_rows": null,
            "grid_gap": null,
            "max_width": null,
            "order": null,
            "_view_module_version": "1.2.0",
            "grid_template_areas": null,
            "object_position": null,
            "object_fit": null,
            "grid_auto_columns": null,
            "margin": null,
            "display": null,
            "left": null
          }
        },
        "bf26955a00a94ba8ac1f178d30fd65c3": {
          "model_module": "@jupyter-widgets/controls",
          "model_name": "IntProgressModel",
          "state": {
            "_view_name": "ProgressView",
            "style": "IPY_MODEL_0b6e9986f0f44e53b39026c84a25ce4b",
            "_dom_classes": [],
            "description": "",
            "_model_name": "IntProgressModel",
            "bar_style": "",
            "max": 5,
            "_view_module": "@jupyter-widgets/controls",
            "_model_module_version": "1.5.0",
            "value": 0,
            "_view_count": null,
            "_view_module_version": "1.5.0",
            "orientation": "horizontal",
            "min": 0,
            "description_tooltip": null,
            "_model_module": "@jupyter-widgets/controls",
            "layout": "IPY_MODEL_b169af62cf0c4017889d16c31917d18b"
          }
        },
        "8cd38f0ec7be4ae3bf875e48f26af7fb": {
          "model_module": "@jupyter-widgets/controls",
          "model_name": "HTMLModel",
          "state": {
            "_view_name": "HTMLView",
            "style": "IPY_MODEL_2e5c56ef61fb45c79daa1f76e640ccd8",
            "_dom_classes": [],
            "description": "",
            "_model_name": "HTMLModel",
            "placeholder": "​",
            "_view_module": "@jupyter-widgets/controls",
            "_model_module_version": "1.5.0",
            "value": "  0% 0/5 [00:00&lt;?, ?it/s]",
            "_view_count": null,
            "_view_module_version": "1.5.0",
            "description_tooltip": null,
            "_model_module": "@jupyter-widgets/controls",
            "layout": "IPY_MODEL_3d5350b5da8f471d995d88ba041c78ac"
          }
        },
        "0b6e9986f0f44e53b39026c84a25ce4b": {
          "model_module": "@jupyter-widgets/controls",
          "model_name": "ProgressStyleModel",
          "state": {
            "_view_name": "StyleView",
            "_model_name": "ProgressStyleModel",
            "description_width": "",
            "_view_module": "@jupyter-widgets/base",
            "_model_module_version": "1.5.0",
            "_view_count": null,
            "_view_module_version": "1.2.0",
            "bar_color": null,
            "_model_module": "@jupyter-widgets/controls"
          }
        },
        "b169af62cf0c4017889d16c31917d18b": {
          "model_module": "@jupyter-widgets/base",
          "model_name": "LayoutModel",
          "state": {
            "_view_name": "LayoutView",
            "grid_template_rows": null,
            "right": null,
            "justify_content": null,
            "_view_module": "@jupyter-widgets/base",
            "overflow": null,
            "_model_module_version": "1.2.0",
            "_view_count": null,
            "flex_flow": null,
            "width": null,
            "min_width": null,
            "border": null,
            "align_items": null,
            "bottom": null,
            "_model_module": "@jupyter-widgets/base",
            "top": null,
            "grid_column": null,
            "overflow_y": null,
            "overflow_x": null,
            "grid_auto_flow": null,
            "grid_area": null,
            "grid_template_columns": null,
            "flex": null,
            "_model_name": "LayoutModel",
            "justify_items": null,
            "grid_row": null,
            "max_height": null,
            "align_content": null,
            "visibility": null,
            "align_self": null,
            "height": null,
            "min_height": null,
            "padding": null,
            "grid_auto_rows": null,
            "grid_gap": null,
            "max_width": null,
            "order": null,
            "_view_module_version": "1.2.0",
            "grid_template_areas": null,
            "object_position": null,
            "object_fit": null,
            "grid_auto_columns": null,
            "margin": null,
            "display": null,
            "left": null
          }
        },
        "2e5c56ef61fb45c79daa1f76e640ccd8": {
          "model_module": "@jupyter-widgets/controls",
          "model_name": "DescriptionStyleModel",
          "state": {
            "_view_name": "StyleView",
            "_model_name": "DescriptionStyleModel",
            "description_width": "",
            "_view_module": "@jupyter-widgets/base",
            "_model_module_version": "1.5.0",
            "_view_count": null,
            "_view_module_version": "1.2.0",
            "_model_module": "@jupyter-widgets/controls"
          }
        },
        "3d5350b5da8f471d995d88ba041c78ac": {
          "model_module": "@jupyter-widgets/base",
          "model_name": "LayoutModel",
          "state": {
            "_view_name": "LayoutView",
            "grid_template_rows": null,
            "right": null,
            "justify_content": null,
            "_view_module": "@jupyter-widgets/base",
            "overflow": null,
            "_model_module_version": "1.2.0",
            "_view_count": null,
            "flex_flow": null,
            "width": null,
            "min_width": null,
            "border": null,
            "align_items": null,
            "bottom": null,
            "_model_module": "@jupyter-widgets/base",
            "top": null,
            "grid_column": null,
            "overflow_y": null,
            "overflow_x": null,
            "grid_auto_flow": null,
            "grid_area": null,
            "grid_template_columns": null,
            "flex": null,
            "_model_name": "LayoutModel",
            "justify_items": null,
            "grid_row": null,
            "max_height": null,
            "align_content": null,
            "visibility": null,
            "align_self": null,
            "height": null,
            "min_height": null,
            "padding": null,
            "grid_auto_rows": null,
            "grid_gap": null,
            "max_width": null,
            "order": null,
            "_view_module_version": "1.2.0",
            "grid_template_areas": null,
            "object_position": null,
            "object_fit": null,
            "grid_auto_columns": null,
            "margin": null,
            "display": null,
            "left": null
          }
        },
        "120e67cb00d644799edbc2eaa30b011f": {
          "model_module": "@jupyter-widgets/controls",
          "model_name": "HBoxModel",
          "state": {
            "_view_name": "HBoxView",
            "_dom_classes": [],
            "_model_name": "HBoxModel",
            "_view_module": "@jupyter-widgets/controls",
            "_model_module_version": "1.5.0",
            "_view_count": null,
            "_view_module_version": "1.5.0",
            "box_style": "",
            "layout": "IPY_MODEL_ab8a16a0407a48d4aad83fbe8f909103",
            "_model_module": "@jupyter-widgets/controls",
            "children": [
              "IPY_MODEL_594ea95d09a84b2fa03ca5ab411960f6",
              "IPY_MODEL_b27765c0ef7e41bfb404473af6719a14"
            ]
          }
        },
        "ab8a16a0407a48d4aad83fbe8f909103": {
          "model_module": "@jupyter-widgets/base",
          "model_name": "LayoutModel",
          "state": {
            "_view_name": "LayoutView",
            "grid_template_rows": null,
            "right": null,
            "justify_content": null,
            "_view_module": "@jupyter-widgets/base",
            "overflow": null,
            "_model_module_version": "1.2.0",
            "_view_count": null,
            "flex_flow": null,
            "width": null,
            "min_width": null,
            "border": null,
            "align_items": null,
            "bottom": null,
            "_model_module": "@jupyter-widgets/base",
            "top": null,
            "grid_column": null,
            "overflow_y": null,
            "overflow_x": null,
            "grid_auto_flow": null,
            "grid_area": null,
            "grid_template_columns": null,
            "flex": null,
            "_model_name": "LayoutModel",
            "justify_items": null,
            "grid_row": null,
            "max_height": null,
            "align_content": null,
            "visibility": null,
            "align_self": null,
            "height": null,
            "min_height": null,
            "padding": null,
            "grid_auto_rows": null,
            "grid_gap": null,
            "max_width": null,
            "order": null,
            "_view_module_version": "1.2.0",
            "grid_template_areas": null,
            "object_position": null,
            "object_fit": null,
            "grid_auto_columns": null,
            "margin": null,
            "display": null,
            "left": null
          }
        },
        "594ea95d09a84b2fa03ca5ab411960f6": {
          "model_module": "@jupyter-widgets/controls",
          "model_name": "IntProgressModel",
          "state": {
            "_view_name": "ProgressView",
            "style": "IPY_MODEL_51e91e2445f348b4936da3beae9e7822",
            "_dom_classes": [],
            "description": "",
            "_model_name": "IntProgressModel",
            "bar_style": "info",
            "max": 1,
            "_view_module": "@jupyter-widgets/controls",
            "_model_module_version": "1.5.0",
            "value": 1,
            "_view_count": null,
            "_view_module_version": "1.5.0",
            "orientation": "horizontal",
            "min": 0,
            "description_tooltip": null,
            "_model_module": "@jupyter-widgets/controls",
            "layout": "IPY_MODEL_7fc25a3975674ce1bdcf9f655e597221"
          }
        },
        "b27765c0ef7e41bfb404473af6719a14": {
          "model_module": "@jupyter-widgets/controls",
          "model_name": "HTMLModel",
          "state": {
            "_view_name": "HTMLView",
            "style": "IPY_MODEL_b3bdbda6a14344adb60aa03bcb44c255",
            "_dom_classes": [],
            "description": "",
            "_model_name": "HTMLModel",
            "placeholder": "​",
            "_view_module": "@jupyter-widgets/controls",
            "_model_module_version": "1.5.0",
            "value": "1412it [01:34, 15.25it/s]",
            "_view_count": null,
            "_view_module_version": "1.5.0",
            "description_tooltip": null,
            "_model_module": "@jupyter-widgets/controls",
            "layout": "IPY_MODEL_ea5c0513d6bf4224847bbd6bc76dc6dc"
          }
        },
        "51e91e2445f348b4936da3beae9e7822": {
          "model_module": "@jupyter-widgets/controls",
          "model_name": "ProgressStyleModel",
          "state": {
            "_view_name": "StyleView",
            "_model_name": "ProgressStyleModel",
            "description_width": "",
            "_view_module": "@jupyter-widgets/base",
            "_model_module_version": "1.5.0",
            "_view_count": null,
            "_view_module_version": "1.2.0",
            "bar_color": null,
            "_model_module": "@jupyter-widgets/controls"
          }
        },
        "7fc25a3975674ce1bdcf9f655e597221": {
          "model_module": "@jupyter-widgets/base",
          "model_name": "LayoutModel",
          "state": {
            "_view_name": "LayoutView",
            "grid_template_rows": null,
            "right": null,
            "justify_content": null,
            "_view_module": "@jupyter-widgets/base",
            "overflow": null,
            "_model_module_version": "1.2.0",
            "_view_count": null,
            "flex_flow": null,
            "width": null,
            "min_width": null,
            "border": null,
            "align_items": null,
            "bottom": null,
            "_model_module": "@jupyter-widgets/base",
            "top": null,
            "grid_column": null,
            "overflow_y": null,
            "overflow_x": null,
            "grid_auto_flow": null,
            "grid_area": null,
            "grid_template_columns": null,
            "flex": null,
            "_model_name": "LayoutModel",
            "justify_items": null,
            "grid_row": null,
            "max_height": null,
            "align_content": null,
            "visibility": null,
            "align_self": null,
            "height": null,
            "min_height": null,
            "padding": null,
            "grid_auto_rows": null,
            "grid_gap": null,
            "max_width": null,
            "order": null,
            "_view_module_version": "1.2.0",
            "grid_template_areas": null,
            "object_position": null,
            "object_fit": null,
            "grid_auto_columns": null,
            "margin": null,
            "display": null,
            "left": null
          }
        },
        "b3bdbda6a14344adb60aa03bcb44c255": {
          "model_module": "@jupyter-widgets/controls",
          "model_name": "DescriptionStyleModel",
          "state": {
            "_view_name": "StyleView",
            "_model_name": "DescriptionStyleModel",
            "description_width": "",
            "_view_module": "@jupyter-widgets/base",
            "_model_module_version": "1.5.0",
            "_view_count": null,
            "_view_module_version": "1.2.0",
            "_model_module": "@jupyter-widgets/controls"
          }
        },
        "ea5c0513d6bf4224847bbd6bc76dc6dc": {
          "model_module": "@jupyter-widgets/base",
          "model_name": "LayoutModel",
          "state": {
            "_view_name": "LayoutView",
            "grid_template_rows": null,
            "right": null,
            "justify_content": null,
            "_view_module": "@jupyter-widgets/base",
            "overflow": null,
            "_model_module_version": "1.2.0",
            "_view_count": null,
            "flex_flow": null,
            "width": null,
            "min_width": null,
            "border": null,
            "align_items": null,
            "bottom": null,
            "_model_module": "@jupyter-widgets/base",
            "top": null,
            "grid_column": null,
            "overflow_y": null,
            "overflow_x": null,
            "grid_auto_flow": null,
            "grid_area": null,
            "grid_template_columns": null,
            "flex": null,
            "_model_name": "LayoutModel",
            "justify_items": null,
            "grid_row": null,
            "max_height": null,
            "align_content": null,
            "visibility": null,
            "align_self": null,
            "height": null,
            "min_height": null,
            "padding": null,
            "grid_auto_rows": null,
            "grid_gap": null,
            "max_width": null,
            "order": null,
            "_view_module_version": "1.2.0",
            "grid_template_areas": null,
            "object_position": null,
            "object_fit": null,
            "grid_auto_columns": null,
            "margin": null,
            "display": null,
            "left": null
          }
        }
      }
    }
  },
  "cells": [
    {
      "cell_type": "markdown",
      "metadata": {
        "id": "PBBQhdp4ww9c",
        "colab_type": "text"
      },
      "source": [
        "# Assignment 1.4: Negative sampling (15 points)\n",
        "\n",
        "You may have noticed that word2vec is really slow to train. Especially with big (> 50 000) vocabularies. Negative sampling is the solution.\n",
        "\n",
        "The task is to implement word2vec with negative sampling.\n",
        "\n",
        "This is what was discussed in Stanford lecture. The main idea is in the formula:\n",
        "\n",
        "$$ L = \\log\\sigma(u^T_o \\cdot u_c) + \\sum^k_{i=1} \\mathbb{E}_{j \\sim P(w)}[\\log\\sigma(-u^T_j \\cdot u_c)]$$\n",
        "\n",
        "Where $\\sigma$ - sigmoid function, $u_c$ - central word vector, $u_o$ - context (outside of the window) word vector, $u_j$ - vector or word with index $j$.\n",
        "\n",
        "The first term calculates the similarity between positive examples (word from one window)\n",
        "\n",
        "The second term is responsible for negative samples. $k$ is a hyperparameter - the number of negatives to sample.\n",
        "$\\mathbb{E}_{j \\sim P(w)}$\n",
        "means that $j$ is distributed accordingly to unigram distribution.\n",
        "\n",
        "Thus, it is only required to calculate the similarity between positive samples and some other negatives. Not across all the vocabulary.\n",
        "\n",
        "Useful links:\n",
        "1. [Efficient Estimation of Word Representations in Vector Space](https://arxiv.org/pdf/1301.3781.pdf)\n",
        "1. [Distributed Representations of Words and Phrases and their Compositionality](http://papers.nips.cc/paper/5021-distributed-representations-of-words-and-phrases-and-their-compositionality.pdf)"
      ]
    },
    {
      "cell_type": "code",
      "metadata": {
        "id": "nU0OobJ9x_kH",
        "colab_type": "code",
        "colab": {
          "base_uri": "https://localhost:8080/",
          "height": 50
        },
        "outputId": "54fcec0c-0405-41c1-ae12-43adeb6ba728"
      },
      "source": [
        "import numpy as np\n",
        "import scipy.stats as sps\n",
        "import torch\n",
        "import time\n",
        "import matplotlib.pyplot as plt\n",
        "import seaborn as sns\n",
        "from sklearn.manifold import TSNE\n",
        "from tqdm import tqdm_notebook\n",
        "from sklearn.metrics.pairwise import cosine_distances\n",
        "import nltk\n",
        "from collections import Counter\n",
        "nltk.download('punkt')\n",
        "%matplotlib inline"
      ],
      "execution_count": 11,
      "outputs": [
        {
          "output_type": "stream",
          "text": [
            "[nltk_data] Downloading package punkt to /root/nltk_data...\n",
            "[nltk_data]   Package punkt is already up-to-date!\n"
          ],
          "name": "stdout"
        }
      ]
    },
    {
      "cell_type": "code",
      "metadata": {
        "id": "Fi9D95QGzVSL",
        "colab_type": "code",
        "colab": {
          "base_uri": "https://localhost:8080/",
          "height": 34
        },
        "outputId": "e2277ebd-fef1-43d0-fa1f-ba0c4111363b"
      },
      "source": [
        "device = torch.device('cuda')\n",
        "# device = torch.device('cpu')\n",
        "torch.cuda.is_available()"
      ],
      "execution_count": 12,
      "outputs": [
        {
          "output_type": "execute_result",
          "data": {
            "text/plain": [
              "True"
            ]
          },
          "metadata": {
            "tags": []
          },
          "execution_count": 12
        }
      ]
    },
    {
      "cell_type": "code",
      "metadata": {
        "id": "g-4r9c2UyTN0",
        "colab_type": "code",
        "colab": {}
      },
      "source": [
        "# for SkipGram\n",
        "# with negative samplihg\n",
        "class BatcherNegative:\n",
        "    def preprocess(self):\n",
        "        self.tokens = nltk.word_tokenize(self.raw_text)\n",
        "        del self.raw_text\n",
        "        if self.data_percent is not None:\n",
        "            self.tokens = self.tokens[:int(self.data_percent * len(self.tokens))]\n",
        "        \n",
        "        self.corpus_size = len(self.tokens)\n",
        "\n",
        "        counter = Counter(self.tokens)\n",
        "        counter = {k: v for k, v in sorted(counter.items(),\n",
        "                                        key=lambda item: item[1],\n",
        "                                        reverse=True)}\n",
        "\n",
        "        most_frequent = list(counter)[:min(len(counter), self.vocab_size - 1)]\n",
        "        \n",
        "        self.word2Ind = {word : ind for ind, word in enumerate(most_frequent)}\n",
        "        self.word2Ind[self.unknown] = len(self.word2Ind)\n",
        "        self.ind2Word = {v : k for k, v in self.word2Ind.items()}\n",
        "\n",
        "        most_frequent = set(most_frequent)\n",
        "        self.tokens = np.array([self.word2Ind[token] if token in most_frequent \n",
        "                        else self.word2Ind[self.unknown]\n",
        "                        for token in self.tokens])\n",
        "        \n",
        "\n",
        "\n",
        "        # обрезаем текст чтобы все батчи имели один шейп\n",
        "        self.shuffle = np.arange(self.window_size, len(self.tokens)\n",
        "        - self.window_size)\n",
        "        np.random.shuffle(self.shuffle)\n",
        "\n",
        "    # задаёт распределение на словах \n",
        "    def unigram(self):\n",
        "        # слова с частотой встречаемости\n",
        "        word_count = Counter(self.tokens)\n",
        "        # не хотим семплировать UNK\n",
        "        del word_count[self.unknown]\n",
        "        x_values = list(word_count.keys())\n",
        "        total_words = sum(word_count.values())\n",
        "        word_prob = [(v / total_words) ** 3/4 for v in word_count.values()]\n",
        "        word_prob_sum = sum(word_prob)\n",
        "        word_prob = [p / word_prob_sum for p in word_prob]\n",
        "        self.unigram_distribution = sps.rv_discrete(\n",
        "            values=(x_values, word_prob))\n",
        "        \n",
        "    def negative_sample(self):\n",
        "        return self.unigram_distribution.rvs(size=(self.batch_size,\n",
        "                                                   self.num_negative))        \n",
        "        \n",
        "\n",
        "\n",
        "    def __init__(self, window_size=2, batch_size=100,\n",
        "                data_path = 'text8', raw_text = None,\n",
        "                vocab_size = 10000, data_percent = None,\n",
        "                num_negative = 5):\n",
        "\n",
        "        self.window_size = window_size\n",
        "        self.batch_size = batch_size\n",
        "        self.vocab_size = vocab_size\n",
        "        self.unknown = '<UNK>'\n",
        "        self.data_percent = data_percent\n",
        "        self.num_negative = num_negative\n",
        "\n",
        "\n",
        "        if raw_text is None:\n",
        "            self.raw_text = open(data_path).read()\n",
        "        else:\n",
        "            self.raw_text = raw_text\n",
        "\n",
        "        self.preprocess()\n",
        "        self.unigram()\n",
        "\n",
        "        self.ind = 0 \n",
        "\n",
        "    def __iter__(self):\n",
        "        return self\n",
        "    \n",
        "\n",
        "    def __next__(self):\n",
        "        # если последний батч вылезает за границы корпуса, просто пропускаем его\n",
        "        if self.ind + self.batch_size >= len(self.shuffle):\n",
        "            raise StopIteration\n",
        "\n",
        "        centers_pos = self.shuffle[self.ind:self.ind + self.batch_size]\n",
        "\n",
        "        windows = [list(self.tokens[c - self.window_size:c]) + \n",
        "                    list(self.tokens[c + 1: c + self.window_size + 1])\n",
        "                                        for c in centers_pos]\n",
        "\n",
        "        self.ind += self.batch_size\n",
        "        return self.tokens[centers_pos], np.array(windows), self.negative_sample()\n",
        "\n",
        "    # вернуть итератор к началу текста\n",
        "    def reset(self):\n",
        "        np.random.shuffle(self.shuffle)\n",
        "        self.ind = 0\n",
        "    "
      ],
      "execution_count": 0,
      "outputs": []
    },
    {
      "cell_type": "code",
      "metadata": {
        "id": "Ghw7rASKyRkD",
        "colab_type": "code",
        "colab": {}
      },
      "source": [
        "# with negative sampling\n",
        "class SkipGramNegative:\n",
        "    def __init__(self, window_size=2, batch_size=10, vocab_size=10000,\n",
        "                 embed_dim=100, learning_rate = 1e-4, num_negative=5):\n",
        "        self.window_size = window_size\n",
        "        self.batch_size = batch_size\n",
        "        self.vocab_size = vocab_size\n",
        "        self.embed_dim = embed_dim\n",
        "        self.learning_rate = learning_rate\n",
        "        self.num_negative = num_negative\n",
        "        self.unknown = '<UNK>'\n",
        "\n",
        "        self.model = torch.nn.Sequential(\n",
        "            torch.nn.Embedding(vocab_size, embed_dim),\n",
        "            torch.nn.Linear(embed_dim, vocab_size, bias=False))\n",
        "        self.model = self.model.to(device)\n",
        "\n",
        "        self.optimizer = torch.optim.Adam(self.model.parameters(), lr=self.learning_rate)\n",
        "\n",
        "    def fit(self, batcher, num_iter=1):\n",
        "        self.word2Ind = batcher.word2Ind\n",
        "        self.ind2Word = batcher.ind2Word\n",
        "        loss_fn = torch.nn.LogSigmoid()\n",
        "        self.loss_history = []\n",
        "        start = time.time()\n",
        "\n",
        "        for k in tqdm_notebook(range(num_iter)):\n",
        "            num_batch = 0\n",
        "            print(f'---Epoch: {k}---')\n",
        "            for batch in tqdm_notebook(batcher):\n",
        "                score = self.model(torch.from_numpy(batch[0]).to(device, dtype=torch.long))\n",
        "                # score.shape = (batch, vocab)\n",
        "                # batch[1].shape = (batch, 2*window_size)\n",
        "                # batch[2].shape = (batch, num_negative)\n",
        "                # индексы строк, из которых надо взять элементы\n",
        "                positive_row_ind = sum(\n",
        "                    [[i] * (2 * self.window_size) \n",
        "                    for i in range(self.batch_size)], [])\n",
        "                \n",
        "                # score от положительных примеров(из окна)\n",
        "                positive = score[positive_row_ind, batch[1].flatten()]\n",
        "                negative_row_ind = sum(\n",
        "                    [[i] * (self.num_negative) \n",
        "                    for i in range(self.batch_size)], [])\n",
        "                 \n",
        "                 # score от отрицательных примеров(случайно сгенерированных)\n",
        "                negative = score[negative_row_ind, batch[2].flatten()]\n",
        "\n",
        "                # усреднение лосса по батчу\n",
        "                loss = (-loss_fn(positive)).sum() - loss_fn(-negative).sum() / self.batch_size\n",
        "                 \n",
        "                num_batch += 1\n",
        "                \n",
        "                if num_batch % 100 == 0:\n",
        "                    now = time.time()\n",
        "                    print(f'Batch number: {num_batch}\\t loss: {loss} \\t time elapsed: {round(now - start)}')\n",
        "\n",
        "                if num_batch % 100 == 0:\n",
        "                    self.loss_history.append(loss)\n",
        "\n",
        "                self.optimizer.zero_grad()\n",
        "                loss.backward()\n",
        "                self.optimizer.step()\n",
        "            \n",
        "            batcher.reset()\n",
        "            \n",
        "            \n",
        "        \n",
        "    def build_word2vec(self):\n",
        "        u, v = list(self.model.parameters())\n",
        "        vecs = (u + v) / 2\n",
        "        self.w2v_dict = {self.ind2Word[ind] : vecs[ind].detach().cpu().numpy() for ind in self.ind2Word.keys()}\n",
        "        self.v2w_dict = {tuple(v): k for k, v in self.w2v_dict.items()}\n",
        "\n",
        "    def word2vec(self, words):\n",
        "        return [self.w2v_dict[word] if word in self.w2v_dict \n",
        "                else self.w2v_dict[self.unknown] for word in words]\n",
        "    \n",
        "    def vec2word(self, vectors):\n",
        "        return [self.v2w_dict[tuple(vector)] if tuple(vector) in self.v2w_dict\n",
        "                else self.unknown for vector in vectors]\n",
        "        \n",
        "    def top_10_cosine_closest(self, vector):\n",
        "        all_vectors = np.array(list(self.w2v_dict.values()))\n",
        "        distances = cosine_distances(vector.reshape(1, -1), all_vectors)\n",
        "        sort_ind = np.argsort(distances.flatten())\n",
        "        return all_vectors[sort_ind][:10]\n",
        "        \n",
        "    # positive1 + positive2 - negative = ...\n",
        "    def analogy(self, positive1, negative, positive2):\n",
        "        pos1_vec, pos2_vec, neg_vec = self.word2vec((positive1, positive2, negative))\n",
        "        result_vec = pos1_vec - neg_vec + pos2_vec\n",
        "        closest_vec = self.top_10_cosine_closest(result_vec)\n",
        "        # исключаем сами положительные слова\n",
        "        closest_vec = [v for v in closest_vec if (np.any(v != pos1_vec) and np.any(v != pos2_vec))]\n",
        "\n",
        "        return self.v2w_dict[tuple(closest_vec[0])]"
      ],
      "execution_count": 0,
      "outputs": []
    },
    {
      "cell_type": "code",
      "metadata": {
        "id": "7-RGEzA_zG8h",
        "colab_type": "code",
        "colab": {
          "base_uri": "https://localhost:8080/",
          "height": 182,
          "referenced_widgets": [
            "2b253c7898f94fffac29ae0be94010e1",
            "1874547cbbf4405081eb2fd12411ed72",
            "8a4ad37eaf4c4062abeaf1d9b28b1664",
            "114eb836a623416d95dd4a7a3535e0d3",
            "8c42a908a7a7492da4473ac1aa882696",
            "475c524e5ada4966bd2a1276af84ec1c",
            "e6fae36719f54c509cc3085f1ec2e009",
            "7959d91d00524945b0aa339c987e2ef3",
            "49174817d3d446d7a40e81d6b4245dec",
            "4c2bf5e48bd54431987dfc381f291e92",
            "caae367398984a49bf6708c2b218ce91",
            "e2ad92cff746468dad6e35eca22dd0d1",
            "02596d6c6915493285c8c6fc2aae7123",
            "408c4d76c58a40ffb9c8099b18498bd0",
            "29448918904c45e4be386953c3cec70c",
            "ce98aeb0a3de4c14989a54033335878e"
          ]
        },
        "outputId": "ae9ffc22-221f-49d3-c87b-d3edaf713b23"
      },
      "source": [
        "text_test = ' '.join(['first', 'used', 'against', 'early', 'working', 'class', 'radicals', 'including', 'class', 'working'])\n",
        "batcher_test = BatcherNegative(raw_text=text_test, batch_size=1, num_negative=3)\n",
        "batcher_test.unigram()\n",
        "batcher_test.negative_sample()\n",
        "for batch in batcher_test:\n",
        "    print(batch)\n",
        "batcher_test.reset()\n",
        "model_test = SkipGramNegative(embed_dim = 2, batch_size=1, num_negative=3)\n",
        "model_test.fit(batcher_test)"
      ],
      "execution_count": 36,
      "outputs": [
        {
          "output_type": "stream",
          "text": [
            "(array([0]), array([[4, 5, 1, 6]]), array([[0, 1, 0]]))\n",
            "(array([5]), array([[3, 4, 0, 1]]), array([[0, 0, 0]]))\n",
            "(array([1]), array([[5, 0, 6, 7]]), array([[6, 0, 0]]))\n",
            "(array([7]), array([[1, 6, 1, 0]]), array([[1, 1, 0]]))\n",
            "(array([6]), array([[0, 1, 7, 1]]), array([[1, 1, 1]]))\n"
          ],
          "name": "stdout"
        },
        {
          "output_type": "display_data",
          "data": {
            "application/vnd.jupyter.widget-view+json": {
              "model_id": "2b253c7898f94fffac29ae0be94010e1",
              "version_minor": 0,
              "version_major": 2
            },
            "text/plain": [
              "HBox(children=(IntProgress(value=0, max=1), HTML(value='')))"
            ]
          },
          "metadata": {
            "tags": []
          }
        },
        {
          "output_type": "stream",
          "text": [
            "---Epoch: 0---\n"
          ],
          "name": "stdout"
        },
        {
          "output_type": "display_data",
          "data": {
            "application/vnd.jupyter.widget-view+json": {
              "model_id": "49174817d3d446d7a40e81d6b4245dec",
              "version_minor": 0,
              "version_major": 2
            },
            "text/plain": [
              "HBox(children=(IntProgress(value=1, bar_style='info', max=1), HTML(value='')))"
            ]
          },
          "metadata": {
            "tags": []
          }
        }
      ]
    },
    {
      "cell_type": "code",
      "metadata": {
        "id": "B-ZMVhqu3l1x",
        "colab_type": "code",
        "colab": {}
      },
      "source": [
        "# del model_test\n",
        "torch.cuda.empty_cache()"
      ],
      "execution_count": 0,
      "outputs": []
    },
    {
      "cell_type": "code",
      "metadata": {
        "id": "V3hyPBj4zPDj",
        "colab_type": "code",
        "colab": {}
      },
      "source": [
        "batch_size = 1024\n",
        "window_size = 4\n",
        "vocab_size = 20000\n",
        "data_percent = 1\n",
        "num_negative= 5\n",
        "data_path = '/content/drive/My Drive/Colab Notebooks/text8'\n",
        "batcher = BatcherNegative(batch_size=batch_size, window_size=window_size,\n",
        "                  data_percent=data_percent, vocab_size = vocab_size,\n",
        "                  data_path=data_path, num_negative=num_negative)"
      ],
      "execution_count": 0,
      "outputs": []
    },
    {
      "cell_type": "code",
      "metadata": {
        "id": "__jIRa98z6cv",
        "colab_type": "code",
        "colab": {}
      },
      "source": [
        "learning_rate = 3e-3\n",
        "embed_dim = 300\n",
        "model = SkipGramNegative(window_size=window_size, batch_size=batch_size,\n",
        "                 embed_dim=embed_dim, vocab_size=vocab_size,\n",
        "                 learning_rate=learning_rate, num_negative=num_negative)"
      ],
      "execution_count": 0,
      "outputs": []
    },
    {
      "cell_type": "code",
      "metadata": {
        "id": "rrGUPZr64S6K",
        "colab_type": "code",
        "colab": {
          "base_uri": "https://localhost:8080/",
          "height": 333,
          "referenced_widgets": [
            "91d6b07f60b848ddb87f5ab37dbe87f4",
            "ede653002b8e421db2c982d70355cc74",
            "bf26955a00a94ba8ac1f178d30fd65c3",
            "8cd38f0ec7be4ae3bf875e48f26af7fb",
            "0b6e9986f0f44e53b39026c84a25ce4b",
            "b169af62cf0c4017889d16c31917d18b",
            "2e5c56ef61fb45c79daa1f76e640ccd8",
            "3d5350b5da8f471d995d88ba041c78ac",
            "120e67cb00d644799edbc2eaa30b011f",
            "ab8a16a0407a48d4aad83fbe8f909103",
            "594ea95d09a84b2fa03ca5ab411960f6",
            "b27765c0ef7e41bfb404473af6719a14",
            "51e91e2445f348b4936da3beae9e7822",
            "7fc25a3975674ce1bdcf9f655e597221",
            "b3bdbda6a14344adb60aa03bcb44c255",
            "ea5c0513d6bf4224847bbd6bc76dc6dc"
          ]
        },
        "outputId": "4c1039bb-db4d-4f3b-b449-409d50186313"
      },
      "source": [
        "model.fit(batcher, num_iter=5)"
      ],
      "execution_count": 0,
      "outputs": [
        {
          "output_type": "display_data",
          "data": {
            "application/vnd.jupyter.widget-view+json": {
              "model_id": "91d6b07f60b848ddb87f5ab37dbe87f4",
              "version_minor": 0,
              "version_major": 2
            },
            "text/plain": [
              "HBox(children=(IntProgress(value=0, max=5), HTML(value='')))"
            ]
          },
          "metadata": {
            "tags": []
          }
        },
        {
          "output_type": "stream",
          "text": [
            "---Epoch: 0---\n"
          ],
          "name": "stdout"
        },
        {
          "output_type": "display_data",
          "data": {
            "application/vnd.jupyter.widget-view+json": {
              "model_id": "120e67cb00d644799edbc2eaa30b011f",
              "version_minor": 0,
              "version_major": 2
            },
            "text/plain": [
              "HBox(children=(IntProgress(value=1, bar_style='info', max=1), HTML(value='')))"
            ]
          },
          "metadata": {
            "tags": []
          }
        },
        {
          "output_type": "stream",
          "text": [
            "Batch number: 100\t loss: 2442.39501953125 \t time elapsed: 7\n",
            "Batch number: 200\t loss: 1190.757568359375 \t time elapsed: 14\n",
            "Batch number: 300\t loss: 888.4411010742188 \t time elapsed: 20\n",
            "Batch number: 400\t loss: 611.4489135742188 \t time elapsed: 27\n",
            "Batch number: 500\t loss: 452.65679931640625 \t time elapsed: 34\n",
            "Batch number: 600\t loss: 347.0634460449219 \t time elapsed: 40\n",
            "Batch number: 700\t loss: 282.38775634765625 \t time elapsed: 47\n",
            "Batch number: 800\t loss: 201.25807189941406 \t time elapsed: 54\n",
            "Batch number: 900\t loss: 197.9112091064453 \t time elapsed: 60\n",
            "Batch number: 1000\t loss: 118.03958892822266 \t time elapsed: 67\n",
            "Batch number: 1100\t loss: 107.86625671386719 \t time elapsed: 74\n",
            "Batch number: 1200\t loss: 117.95648193359375 \t time elapsed: 81\n",
            "Batch number: 1300\t loss: 102.37686157226562 \t time elapsed: 87\n",
            "Batch number: 1400\t loss: 105.83158111572266 \t time elapsed: 94\n"
          ],
          "name": "stdout"
        }
      ]
    },
    {
      "cell_type": "code",
      "metadata": {
        "id": "7-BUN0DtFaop",
        "colab_type": "code",
        "colab": {}
      },
      "source": [
        "torch.save(model, '/content/drive/My Drive/Colab Notebooks/word2vec_negative.pt')"
      ],
      "execution_count": 0,
      "outputs": []
    },
    {
      "cell_type": "markdown",
      "metadata": {
        "id": "ZtGcSz-9CWuN",
        "colab_type": "text"
      },
      "source": [
        "Далее проверим качество модели при помощи методов из предыдущего ноутбука."
      ]
    },
    {
      "cell_type": "code",
      "metadata": {
        "id": "AVhHfgeZ4imA",
        "colab_type": "code",
        "colab": {
          "base_uri": "https://localhost:8080/",
          "height": 246
        },
        "outputId": "75cbf0b8-4173-4e4a-fb0a-e0300c1b04de"
      },
      "source": [
        "sns.set(style='darkgrid')\n",
        "plt.figure(figsize = (15, 8))\n",
        "plt.plot(10 * np.arange(len(model.loss_history)), model.loss_history)\n",
        "# plt.ylim((0, 100))\n",
        "plt.xlabel('количество батчей')\n",
        "plt.ylabel('loss')\n",
        "plt.title('Зависимость функции потерь от количества батчей')\n",
        "plt.show()"
      ],
      "execution_count": 7,
      "outputs": [
        {
          "output_type": "error",
          "ename": "NameError",
          "evalue": "ignored",
          "traceback": [
            "\u001b[0;31m---------------------------------------------------------------------------\u001b[0m",
            "\u001b[0;31mNameError\u001b[0m                                 Traceback (most recent call last)",
            "\u001b[0;32m<ipython-input-7-5cafeae689d1>\u001b[0m in \u001b[0;36m<module>\u001b[0;34m()\u001b[0m\n\u001b[1;32m      1\u001b[0m \u001b[0msns\u001b[0m\u001b[0;34m.\u001b[0m\u001b[0mset\u001b[0m\u001b[0;34m(\u001b[0m\u001b[0mstyle\u001b[0m\u001b[0;34m=\u001b[0m\u001b[0;34m'darkgrid'\u001b[0m\u001b[0;34m)\u001b[0m\u001b[0;34m\u001b[0m\u001b[0;34m\u001b[0m\u001b[0m\n\u001b[1;32m      2\u001b[0m \u001b[0mplt\u001b[0m\u001b[0;34m.\u001b[0m\u001b[0mfigure\u001b[0m\u001b[0;34m(\u001b[0m\u001b[0mfigsize\u001b[0m \u001b[0;34m=\u001b[0m \u001b[0;34m(\u001b[0m\u001b[0;36m15\u001b[0m\u001b[0;34m,\u001b[0m \u001b[0;36m8\u001b[0m\u001b[0;34m)\u001b[0m\u001b[0;34m)\u001b[0m\u001b[0;34m\u001b[0m\u001b[0;34m\u001b[0m\u001b[0m\n\u001b[0;32m----> 3\u001b[0;31m \u001b[0mplt\u001b[0m\u001b[0;34m.\u001b[0m\u001b[0mplot\u001b[0m\u001b[0;34m(\u001b[0m\u001b[0;36m10\u001b[0m \u001b[0;34m*\u001b[0m \u001b[0mnp\u001b[0m\u001b[0;34m.\u001b[0m\u001b[0marange\u001b[0m\u001b[0;34m(\u001b[0m\u001b[0mlen\u001b[0m\u001b[0;34m(\u001b[0m\u001b[0mmodel\u001b[0m\u001b[0;34m.\u001b[0m\u001b[0mloss_history\u001b[0m\u001b[0;34m)\u001b[0m\u001b[0;34m)\u001b[0m\u001b[0;34m,\u001b[0m \u001b[0mmodel\u001b[0m\u001b[0;34m.\u001b[0m\u001b[0mloss_history\u001b[0m\u001b[0;34m)\u001b[0m\u001b[0;34m\u001b[0m\u001b[0;34m\u001b[0m\u001b[0m\n\u001b[0m\u001b[1;32m      4\u001b[0m \u001b[0;31m# plt.ylim((0, 100))\u001b[0m\u001b[0;34m\u001b[0m\u001b[0;34m\u001b[0m\u001b[0;34m\u001b[0m\u001b[0m\n\u001b[1;32m      5\u001b[0m \u001b[0mplt\u001b[0m\u001b[0;34m.\u001b[0m\u001b[0mxlabel\u001b[0m\u001b[0;34m(\u001b[0m\u001b[0;34m'количество батчей'\u001b[0m\u001b[0;34m)\u001b[0m\u001b[0;34m\u001b[0m\u001b[0;34m\u001b[0m\u001b[0m\n",
            "\u001b[0;31mNameError\u001b[0m: name 'model' is not defined"
          ]
        },
        {
          "output_type": "display_data",
          "data": {
            "text/plain": [
              "<Figure size 1080x576 with 0 Axes>"
            ]
          },
          "metadata": {
            "tags": []
          }
        }
      ]
    },
    {
      "cell_type": "code",
      "metadata": {
        "id": "3Vk---OiCIsu",
        "colab_type": "code",
        "colab": {}
      },
      "source": [
        "test_words = ['football', 'basketball', 'baseball',\n",
        "              'physics', 'math', 'chemistry', 'biology', 'philosophy',\n",
        "              'head', 'body', 'hand', 'arm', 'leg', 'foot',\n",
        "              'he', 'she', 'it', 'i', 'you', 'they',\n",
        "             ]\n",
        "\n",
        "# test_words = set([batcher.ind2Word[token] for token in batcher.tokens[:100]])\n",
        "\n",
        "model.build_word2vec()\n",
        "word_vectors = model.word2vec(test_words)"
      ],
      "execution_count": 0,
      "outputs": []
    },
    {
      "cell_type": "code",
      "metadata": {
        "id": "HhahP5CkBq-Y",
        "colab_type": "code",
        "colab": {}
      },
      "source": [
        "# umap показался лучше, чем предложенные в задании библиотеки\n",
        "import umap\n",
        "reducer = umap.UMAP()\n",
        "word_vectors_embedded = reducer.fit_transform(word_vectors)"
      ],
      "execution_count": 0,
      "outputs": []
    },
    {
      "cell_type": "code",
      "metadata": {
        "id": "XlqawfkuCEzZ",
        "colab_type": "code",
        "colab": {
          "base_uri": "https://localhost:8080/",
          "height": 485
        },
        "outputId": "9d067a16-9f4c-4fc0-a21a-749aea6a86bc"
      },
      "source": [
        "plt.figure(figsize=(15, 8))\n",
        "\n",
        "x_coords = word_vectors_embedded[:, 0]\n",
        "y_coords = word_vectors_embedded[:, 1]\n",
        " \n",
        "x_text_shift = (np.max(x_coords) - np.min(x_coords)) / 50\n",
        "y_text_shift = (np.max(y_coords) - np.min(y_coords)) / 50\n",
        "\n",
        "for i, word in enumerate(test_words):\n",
        "    x = x_coords[i]\n",
        "    y = y_coords[i]\n",
        "    plt.scatter(x, y, marker='x', color='red')\n",
        "    plt.text(x+x_text_shift, y+y_text_shift, word, fontsize=9)\n",
        "\n",
        "plt.show()"
      ],
      "execution_count": 19,
      "outputs": [
        {
          "output_type": "display_data",
          "data": {
            "image/png": "[encoded data removed]",
            "text/plain": [
              "<Figure size 1080x576 with 1 Axes>"
            ]
          },
          "metadata": {
            "tags": []
          }
        }
      ]
    },
    {
      "cell_type": "code",
      "metadata": {
        "id": "LYOZPGFTCMKT",
        "colab_type": "code",
        "colab": {}
      },
      "source": [
        "intr_test_file = open('word_similarity_test.txt.txt')\n",
        "intr_text = intr_test_file.read().lower()\n",
        "intr_test_cases = intr_text.split(':')[1:]\n",
        "intr_results = {}\n",
        "for test_case in tqdm_notebook(intr_test_cases):\n",
        "    lines = test_case.split('\\n')\n",
        "    name = lines[0]\n",
        "    true_analogies = [line.split()[3] for line in lines[1:-1]]\n",
        "    answers = []\n",
        "    for line in tqdm_notebook(lines[1:-1]):\n",
        "        answer = model.analogy(*line.split()[:3])\n",
        "        answers.append(answer)\n",
        "        \n",
        "        \n",
        "    total_analogies = len(true_analogies)\n",
        "    \n",
        "    correct_guesses = np.sum([pair[0] == pair[1] for pair in zip(answers, true_analogies)])\n",
        "    print(name, correct_guesses, total_analogies)\n"
      ],
      "execution_count": 0,
      "outputs": []
    }
  ]
}